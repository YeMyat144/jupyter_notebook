{
  "nbformat": 4,
  "nbformat_minor": 0,
  "metadata": {
    "colab": {
      "provenance": []
    },
    "kernelspec": {
      "name": "python3",
      "display_name": "Python 3"
    },
    "language_info": {
      "name": "python"
    }
  },
  "cells": [
    {
      "cell_type": "markdown",
      "source": [
        "# Imports and Configuration"
      ],
      "metadata": {
        "id": "197YHNlXcvw1"
      }
    },
    {
      "cell_type": "code",
      "execution_count": null,
      "metadata": {
        "colab": {
          "base_uri": "https://localhost:8080/"
        },
        "id": "huoMmeVHaLxS",
        "outputId": "7537d10a-6343-4476-9fcd-dce7734e5989"
      },
      "outputs": [
        {
          "output_type": "stream",
          "name": "stdout",
          "text": [
            "Archive:  /content/feature_engineering.zip\n",
            "  inflating: DataDocumentation.txt   \n",
            "  inflating: abalone.csv             \n",
            "  inflating: accidents.csv           \n",
            "  inflating: airbnb.csv              \n",
            "  inflating: ames.csv                \n",
            "  inflating: autos.csv               \n",
            "  inflating: bike-sharing.csv        \n",
            "  inflating: caravan.csv             \n",
            "  inflating: concrete.csv            \n",
            "  inflating: customer.csv            \n",
            "  inflating: housing.csv             \n",
            "  inflating: movielens1m.csv         \n",
            "  inflating: spotify.csv             \n",
            "  inflating: feature_engineering_housing/data_description.txt  \n",
            "  inflating: feature_engineering_housing/sample_submission (1).csv  \n",
            "  inflating: feature_engineering_housing/test.csv  \n",
            "  inflating: feature_engineering_housing/train.csv  \n"
          ]
        }
      ],
      "source": [
        "!unzip /content/feature_engineering.zip"
      ]
    },
    {
      "cell_type": "code",
      "source": [
        "import matplotlib.pyplot as plt\n",
        "\n",
        "import numpy as np\n",
        "\n",
        "import pandas as pd\n",
        "\n",
        "import seaborn as sns\n",
        "\n",
        "import warnings\n",
        "\n",
        "\n",
        "\n",
        "plt.style.use(\"seaborn-whitegrid\")\n",
        "\n",
        "plt.rc(\"figure\", autolayout=True)\n",
        "\n",
        "plt.rc(\n",
        "\n",
        "    \"axes\",\n",
        "\n",
        "    labelweight=\"bold\",\n",
        "\n",
        "    labelsize=\"large\",\n",
        "\n",
        "    titleweight=\"bold\",\n",
        "\n",
        "    titlesize=14,\n",
        "\n",
        "    titlepad=10,\n",
        "\n",
        ")\n",
        "\n",
        "warnings.filterwarnings('ignore')\n",
        "\n",
        ""
      ],
      "metadata": {
        "id": "CcskngjpiV7M"
      },
      "execution_count": null,
      "outputs": []
    },
    {
      "cell_type": "code",
      "source": [
        "pip install --upgrade category_encoders"
      ],
      "metadata": {
        "colab": {
          "base_uri": "https://localhost:8080/"
        },
        "id": "54FfnSqsiol5",
        "outputId": "fd387b71-7314-409f-e7e3-2777e6e9eaed"
      },
      "execution_count": null,
      "outputs": [
        {
          "output_type": "stream",
          "name": "stdout",
          "text": [
            "Looking in indexes: https://pypi.org/simple, https://us-python.pkg.dev/colab-wheels/public/simple/\n",
            "Collecting category_encoders\n",
            "  Downloading category_encoders-2.6.0-py2.py3-none-any.whl (81 kB)\n",
            "\u001b[2K     \u001b[90m━━━━━━━━━━━━━━━━━━━━━━━━━━━━━━━━━━━━━━━━\u001b[0m \u001b[32m81.2/81.2 KB\u001b[0m \u001b[31m3.3 MB/s\u001b[0m eta \u001b[36m0:00:00\u001b[0m\n",
            "\u001b[?25hRequirement already satisfied: scikit-learn>=0.20.0 in /usr/local/lib/python3.8/dist-packages (from category_encoders) (1.0.2)\n",
            "Requirement already satisfied: patsy>=0.5.1 in /usr/local/lib/python3.8/dist-packages (from category_encoders) (0.5.3)\n",
            "Requirement already satisfied: numpy>=1.14.0 in /usr/local/lib/python3.8/dist-packages (from category_encoders) (1.22.4)\n",
            "Requirement already satisfied: pandas>=1.0.5 in /usr/local/lib/python3.8/dist-packages (from category_encoders) (1.3.5)\n",
            "Requirement already satisfied: scipy>=1.0.0 in /usr/local/lib/python3.8/dist-packages (from category_encoders) (1.7.3)\n",
            "Requirement already satisfied: statsmodels>=0.9.0 in /usr/local/lib/python3.8/dist-packages (from category_encoders) (0.12.2)\n",
            "Requirement already satisfied: pytz>=2017.3 in /usr/local/lib/python3.8/dist-packages (from pandas>=1.0.5->category_encoders) (2022.7.1)\n",
            "Requirement already satisfied: python-dateutil>=2.7.3 in /usr/local/lib/python3.8/dist-packages (from pandas>=1.0.5->category_encoders) (2.8.2)\n",
            "Requirement already satisfied: six in /usr/local/lib/python3.8/dist-packages (from patsy>=0.5.1->category_encoders) (1.15.0)\n",
            "Requirement already satisfied: threadpoolctl>=2.0.0 in /usr/local/lib/python3.8/dist-packages (from scikit-learn>=0.20.0->category_encoders) (3.1.0)\n",
            "Requirement already satisfied: joblib>=0.11 in /usr/local/lib/python3.8/dist-packages (from scikit-learn>=0.20.0->category_encoders) (1.2.0)\n",
            "Installing collected packages: category_encoders\n",
            "Successfully installed category_encoders-2.6.0\n"
          ]
        }
      ]
    },
    {
      "cell_type": "code",
      "source": [
        "import os\n",
        "import warnings\n",
        "from pathlib import Path\n",
        "\n",
        "import matplotlib.pyplot as plt\n",
        "import numpy as np\n",
        "import pandas as pd\n",
        "import seaborn as sns\n",
        "from IPython.display import display\n",
        "from pandas.api.types import CategoricalDtype\n",
        "\n",
        "\n",
        "from category_encoders import MEstimateEncoder\n",
        "from sklearn.cluster import KMeans\n",
        "from sklearn.decomposition import PCA\n",
        "from sklearn.feature_selection import mutual_info_regression\n",
        "from sklearn.model_selection import KFold, cross_val_score\n",
        "from xgboost import XGBRegressor\n",
        "plt.style.use(\"seaborn-whitegrid\")\n",
        "plt.rc(\"figure\", autolayout=True)\n",
        "plt.rc(\n",
        "    \"axes\",\n",
        "    labelweight=\"bold\",\n",
        "    labelsize=\"large\",\n",
        "    titleweight=\"bold\",\n",
        "    titlesize=14,\n",
        "    titlepad=10,\n",
        ")\n",
        "warnings.filterwarnings('ignore')"
      ],
      "metadata": {
        "id": "QklAEp6TbXwd"
      },
      "execution_count": null,
      "outputs": []
    },
    {
      "cell_type": "markdown",
      "source": [
        "# Data Preprocessing"
      ],
      "metadata": {
        "id": "4YR_EK8Sc6nb"
      }
    },
    {
      "cell_type": "code",
      "source": [
        "def load_data():\n",
        "    data_dir = Path(\"/content/feature_engineering_housing\")\n",
        "    df_train = pd.read_csv(data_dir / \"train.csv\", index_col=\"Id\")\n",
        "    df_test = pd.read_csv(data_dir / \"test.csv\", index_col=\"Id\")\n",
        "    df = pd.concat([df_train, df_test])\n",
        "    df = clean(df)\n",
        "\n",
        "    df = impute(df)\n",
        "    df_train = df.loc[df_train.index, :]\n",
        "    df_test = df.loc[df_test.index, :]\n",
        "    return df_train, df_test\n"
      ],
      "metadata": {
        "id": "A6Ag5BG0bp49"
      },
      "execution_count": null,
      "outputs": []
    },
    {
      "cell_type": "code",
      "source": [
        "data_dir = Path(\"/content/feature_engineering_housing\")\n",
        "df = pd.read_csv(data_dir / \"train.csv\", index_col=\"Id\")\n",
        "df.Exterior2nd.unique()"
      ],
      "metadata": {
        "colab": {
          "base_uri": "https://localhost:8080/"
        },
        "id": "Ut-eGNNnbwI1",
        "outputId": "214e6714-533f-4ee3-ebcd-1314201bff14"
      },
      "execution_count": null,
      "outputs": [
        {
          "output_type": "execute_result",
          "data": {
            "text/plain": [
              "array(['VinylSd', 'MetalSd', 'Wd Shng', 'HdBoard', 'Plywood', 'Wd Sdng',\n",
              "       'CmentBd', 'BrkFace', 'Stucco', 'AsbShng', 'Brk Cmn', 'ImStucc',\n",
              "       'AsphShn', 'Stone', 'Other', 'CBlock'], dtype=object)"
            ]
          },
          "metadata": {},
          "execution_count": 7
        }
      ]
    },
    {
      "cell_type": "code",
      "source": [
        "def clean(df):\n",
        "    df[\"Exterior2nd\"] = df[\"Exterior2nd\"].replace({\"Brk Cmn\": \"BrkComm\"})\n",
        "    df[\"GarageYrBlt\"] = df[\"GarageYrBlt\"].where(df.GarageYrBlt <= 2010, df.YearBuilt)\n",
        "    df.rename(columns={\n",
        "        \"1stFlrSF\": \"FirstFlrSF\",\n",
        "        \"2ndFlrSF\": \"SecondFlrSF\",\n",
        "        \"3SsnPorch\": \"Threeseasonporch\",\n",
        "    }, inplace=True,\n",
        "    )\n",
        "    return df"
      ],
      "metadata": {
        "id": "uOZXyHASbyuV"
      },
      "execution_count": null,
      "outputs": []
    },
    {
      "cell_type": "code",
      "source": [
        "def impute(df):\n",
        "    for name in df.select_dtypes(\"number\"):\n",
        "        df[name] = df[name].fillna(0)\n",
        "    for name in df.select_dtypes(\"category\"):\n",
        "        df[name] = df[name].fillna(\"None\")\n",
        "    return df"
      ],
      "metadata": {
        "id": "JOoqhjCBcfgk"
      },
      "execution_count": null,
      "outputs": []
    },
    {
      "cell_type": "markdown",
      "source": [
        "# Load Data"
      ],
      "metadata": {
        "id": "0hQe392-ckl9"
      }
    },
    {
      "cell_type": "code",
      "source": [
        "df_train, df_test = load_data()"
      ],
      "metadata": {
        "id": "4ZIVC56WciA8"
      },
      "execution_count": null,
      "outputs": []
    },
    {
      "cell_type": "code",
      "source": [
        "def score_dataset(X, y, model=XGBRegressor()):\n",
        "    for colname in X.select_dtypes([\"category\"]):\n",
        "        X[colname] = X[colname].cat.codes\n",
        "   log_y = np.log(y)\n",
        "    score = cross_val_score(\n",
        "        model, X, log_y, cv=5, scoring=\"neg_mean_squared_error\",\n",
        "    )\n",
        "    score = -1 * score.mean()\n",
        "    score = np.sqrt(score)\n",
        "    return score"
      ],
      "metadata": {
        "id": "tFJFgRlsdLyV"
      },
      "execution_count": null,
      "outputs": []
    },
    {
      "cell_type": "code",
      "source": [
        "X = df_train.copy()\n",
        "y = X.pop(\"SalePrice\")\n",
        "\n",
        "baseline_score = score_dataset(X, y)\n",
        "print(f\"Baseline score: {baseline_score:.5f} RMSLE\")"
      ],
      "metadata": {
        "colab": {
          "base_uri": "https://localhost:8080/"
        },
        "id": "QhxHy_YRdEB8",
        "outputId": "9b358c2a-943e-41cd-fb0b-f1a1f7eabb8c"
      },
      "execution_count": null,
      "outputs": [
        {
          "output_type": "stream",
          "name": "stdout",
          "text": [
            "Baseline score: nan RMSLE\n"
          ]
        }
      ]
    },
    {
      "cell_type": "markdown",
      "source": [
        "# Feature Utility Scores"
      ],
      "metadata": {
        "id": "c7uIfgRFdqba"
      }
    },
    {
      "cell_type": "code",
      "source": [
        "def make_mi_scores(X, y):\n",
        "    X = X.copy()\n",
        "    for colname in X.select_dtypes([\"object\", \"category\"]):\n",
        "        X[colname], _ = X[colname].factorize()\n",
        "    discrete_features = [pd.api.types.is_integer_dtype(t) for t in X.dtypes]\n",
        "    mi_scores = mutual_info_regression(X, y, discrete_features=discrete_features, random_state=0)\n",
        "    mi_scores = pd.Series(mi_scores, name=\"MI Scores\", index=X.columns)\n",
        "    mi_scores = mi_scores.sort_values(ascending=False)\n",
        "    return mi_scores\n",
        "\n",
        "\n",
        "def plot_mi_scores(scores):\n",
        "    scores = scores.sort_values(ascending=True)\n",
        "    width = np.arange(len(scores))\n",
        "    ticks = list(scores.index)\n",
        "    plt.barh(width, scores)\n",
        "    plt.yticks(width, ticks)\n",
        "    plt.title(\"Mutual Information Scores\")"
      ],
      "metadata": {
        "id": "9yi4kQXfdyVA"
      },
      "execution_count": null,
      "outputs": []
    },
    {
      "cell_type": "code",
      "source": [
        "X = df_train.copy()\n",
        "y = X.pop(\"SalePrice\")\n",
        "\n",
        "mi_scores = make_mi_scores(X, y)\n",
        "mi_scores"
      ],
      "metadata": {
        "colab": {
          "base_uri": "https://localhost:8080/"
        },
        "id": "eR96RnFbdRAM",
        "outputId": "0cc4de97-4d6e-46ce-dd81-fcb8fa9dd659"
      },
      "execution_count": null,
      "outputs": [
        {
          "output_type": "execute_result",
          "data": {
            "text/plain": [
              "OverallQual     0.571457\n",
              "Neighborhood    0.526220\n",
              "GrLivArea       0.430395\n",
              "YearBuilt       0.407974\n",
              "LotArea         0.394468\n",
              "                  ...   \n",
              "PoolQC          0.000000\n",
              "MiscFeature     0.000000\n",
              "MiscVal         0.000000\n",
              "MoSold          0.000000\n",
              "YrSold          0.000000\n",
              "Name: MI Scores, Length: 79, dtype: float64"
            ]
          },
          "metadata": {},
          "execution_count": 23
        }
      ]
    },
    {
      "cell_type": "code",
      "source": [
        "def drop_uninformative(df, mi_scores):\n",
        "    return df.loc[:, mi_scores > 0.0]"
      ],
      "metadata": {
        "id": "5atH1HSSd4N8"
      },
      "execution_count": null,
      "outputs": []
    },
    {
      "cell_type": "code",
      "source": [
        "X = df_train.copy()\n",
        "y = X.pop(\"SalePrice\")\n",
        "X = drop_uninformative(X, mi_scores)\n",
        "\n",
        "score_dataset(X, y)"
      ],
      "metadata": {
        "colab": {
          "base_uri": "https://localhost:8080/"
        },
        "id": "6t6Fr3mEeBo8",
        "outputId": "6f422c81-8587-4d30-bceb-615a7f950d7d"
      },
      "execution_count": null,
      "outputs": [
        {
          "output_type": "execute_result",
          "data": {
            "text/plain": [
              "nan"
            ]
          },
          "metadata": {},
          "execution_count": 26
        }
      ]
    },
    {
      "cell_type": "markdown",
      "source": [
        "# Create Features"
      ],
      "metadata": {
        "id": "JBhpVFVleOfu"
      }
    },
    {
      "cell_type": "code",
      "source": [
        "def create_features(df):\n",
        "    X = df.copy()\n",
        "    y = X.pop(\"SalePrice\")\n",
        "    X = X.join(create_features_1(X))\n",
        "    X = X.join(create_features_2(X))\n",
        "    X = X.join(create_features_3(X))\n",
        "    return X"
      ],
      "metadata": {
        "id": "1Y1YP0q5eDaz"
      },
      "execution_count": null,
      "outputs": []
    },
    {
      "cell_type": "code",
      "source": [
        "def label_encode(df):\n",
        "    X = df.copy()\n",
        "    for colname in X.select_dtypes([\"category\"]):\n",
        "        X[colname] = X[colname].cat.codes\n",
        "    return X"
      ],
      "metadata": {
        "id": "HDT90kefeRME"
      },
      "execution_count": null,
      "outputs": []
    },
    {
      "cell_type": "code",
      "source": [
        "def mathematical_transforms(df):\n",
        "    X = pd.DataFrame()\n",
        "    X[\"LivLotRatio\"] = df.GrLivArea / df.LotArea\n",
        "    X[\"Spaciousness\"] = (df.FirstFlrSF + df.SecondFlrSF) / df.TotRmsAbvGrd\n",
        "\n",
        "    return X\n",
        "\n",
        "\n",
        "def interactions(df):\n",
        "    X = pd.get_dummies(df.BldgType, prefix=\"Bldg\")\n",
        "    X = X.mul(df.GrLivArea, axis=0)\n",
        "    return X\n",
        "def counts(df):\n",
        "    X = pd.DataFrame()\n",
        "    X[\"PorchTypes\"] = df[[\n",
        "        \"WoodDeckSF\",\n",
        "        \"OpenPorchSF\",\n",
        "        \"EnclosedPorch\",\n",
        "        \"Threeseasonporch\",\n",
        "        \"ScreenPorch\",\n",
        "    ]].gt(0.0).sum(axis=1)\n",
        "    return X\n",
        "\n",
        "\n",
        "def break_down(df):\n",
        "    X = pd.DataFrame()\n",
        "    X[\"MSClass\"] = df.MSSubClass.str.split(\"_\", n=1, expand=True)[0]\n",
        "    return X\n",
        "\n",
        "def group_transforms(df):\n",
        "    X = pd.DataFrame()\n",
        "    X[\"MedNhbdArea\"] = df.groupby(\"Neighborhood\")[\"GrLivArea\"].transform(\"median\")\n",
        "    return X"
      ],
      "metadata": {
        "id": "yaoD6hDJeVar"
      },
      "execution_count": null,
      "outputs": []
    },
    {
      "cell_type": "code",
      "source": [
        "cluster_features = [\n",
        "    \"LotArea\",\n",
        "    \"TotalBsmtSF\",\n",
        "    \"FirstFlrSF\",\n",
        "    \"SecondFlrSF\",\n",
        "    \"GrLivArea\",\n",
        "]\n",
        "\n",
        "\n",
        "def cluster_labels(df, features, n_clusters=20):\n",
        "    X = df.copy()\n",
        "    X_scaled = X.loc[:, features]\n",
        "    X_scaled = (X_scaled - X_scaled.mean(axis=0)) / X_scaled.std(axis=0)\n",
        "    kmeans = KMeans(n_clusters=n_clusters, n_init=50, random_state=0)\n",
        "    X_new = pd.DataFrame()\n",
        "    X_new[\"Cluster\"] = kmeans.fit_predict(X_scaled)\n",
        "    return X_new\n",
        "def cluster_distance(df, features, n_clusters=20):\n",
        "    X = df.copy()\n",
        "    X_scaled = X.loc[:, features]\n",
        "    X_scaled = (X_scaled - X_scaled.mean(axis=0)) / X_scaled.std(axis=0)\n",
        "    kmeans = KMeans(n_clusters=20, n_init=50, random_state=0)\n",
        "    X_cd = kmeans.fit_transform(X_scaled)\n",
        "\n",
        "    X_cd = pd.DataFrame(\n",
        "        X_cd, columns=[f\"Centroid_{i}\" for i in range(X_cd.shape[1])]\n",
        "    )\n",
        "    return X_cd"
      ],
      "metadata": {
        "id": "906EvR1HecQS"
      },
      "execution_count": null,
      "outputs": []
    },
    {
      "cell_type": "code",
      "source": [
        "def apply_pca(X, standardize=True):\n",
        "\n",
        "    if standardize:\n",
        "        X = (X - X.mean(axis=0)) / X.std(axis=0)\n",
        "\n",
        "    pca = PCA()\n",
        "    X_pca = pca.fit_transform(X)\n",
        "\n",
        "    component_names = [f\"PC{i+1}\" for i in range(X_pca.shape[1])]\n",
        "    X_pca = pd.DataFrame(X_pca, columns=component_names)\n",
        "\n",
        "    loadings = pd.DataFrame(\n",
        "        pca.components_.T,\n",
        "        columns=component_names,\n",
        "        index=X.columns,\n",
        "    )\n",
        "    return pca, X_pca, loadings\n",
        "def plot_variance(pca, width=8, dpi=100):\n",
        "\n",
        "    fig, axs = plt.subplots(1, 2)\n",
        "    n = pca.n_components_\n",
        "    grid = np.arange(1, n + 1)\n",
        "\n",
        "    evr = pca.explained_variance_ratio_\n",
        "    axs[0].bar(grid, evr)\n",
        "    axs[0].set(\n",
        "        xlabel=\"Component\", title=\"% Explained Variance\", ylim=(0.0, 1.0)\n",
        "    )\n",
        "\n",
        "    cv = np.cumsum(evr)\n",
        "    axs[1].plot(np.r_[0, grid], np.r_[0, cv], \"o-\")\n",
        "    axs[1].set(\n",
        "        xlabel=\"Component\", title=\"% Cumulative Variance\", ylim=(0.0, 1.0)\n",
        "    )\n",
        "\n",
        "    fig.set(figwidth=8, dpi=100)\n",
        "    return axs"
      ],
      "metadata": {
        "id": "cC6-IkZAehk0"
      },
      "execution_count": null,
      "outputs": []
    },
    {
      "cell_type": "code",
      "source": [
        "def pca_inspired(df):\n",
        "    X = pd.DataFrame()\n",
        "    X[\"Feature1\"] = df.GrLivArea + df.TotalBsmtSF\n",
        "    X[\"Feature2\"] = df.YearRemodAdd * df.TotalBsmtSF\n",
        "    return X\n",
        "\n",
        "\n",
        "def pca_components(df, features):\n",
        "    X = df.loc[:, features]\n",
        "    _, X_pca, _ = apply_pca(X)\n",
        "    return X_pca\n",
        "\n",
        "\n",
        "pca_features = [\n",
        "    \"GarageArea\",\n",
        "    \"YearRemodAdd\",\n",
        "    \"TotalBsmtSF\",\n",
        "    \"GrLivArea\",\n",
        "]"
      ],
      "metadata": {
        "id": "1mVYl5j7ep3U"
      },
      "execution_count": null,
      "outputs": []
    },
    {
      "cell_type": "code",
      "source": [
        "def corrplot(df, method=\"pearson\", annot=True, **kwargs):\n",
        "    sns.clustermap(\n",
        "        df.corr(method),\n",
        "        vmin=-1.0,\n",
        "        vmax=1.0,\n",
        "        cmap=\"icefire\",\n",
        "        method=\"complete\",\n",
        "        annot=annot,\n",
        "        **kwargs,\n",
        "    )\n",
        "\n",
        "\n",
        "corrplot(df_train, annot=None)\n"
      ],
      "metadata": {
        "colab": {
          "base_uri": "https://localhost:8080/",
          "height": 729
        },
        "id": "SVwhPCgQe0Z0",
        "outputId": "43716ed8-c50f-442b-b199-3730aa0dfce7"
      },
      "execution_count": null,
      "outputs": [
        {
          "output_type": "display_data",
          "data": {
            "text/plain": [
              "<Figure size 720x720 with 4 Axes>"
            ],
            "image/png": "[encoded data removed]"
          },
          "metadata": {}
        }
      ]
    },
    {
      "cell_type": "code",
      "source": [
        "def indicate_outliers(df):\n",
        "    X_new = pd.DataFrame()\n",
        "    X_new[\"Outlier\"] = (df.Neighborhood == \"Edwards\") & (df.SaleCondition == \"Partial\")\n",
        "    return X_new"
      ],
      "metadata": {
        "id": "JFKkz1mNe3Pj"
      },
      "execution_count": null,
      "outputs": []
    },
    {
      "cell_type": "code",
      "source": [
        "class CrossFoldEncoder:\n",
        "    def __init__(self, encoder, **kwargs):\n",
        "        self.encoder_ = encoder\n",
        "        self.kwargs_ = kwargs\n",
        "        self.cv_ = KFold(n_splits=5)\n",
        "\n",
        "    def fit_transform(self, X, y, cols):\n",
        "        self.fitted_encoders_ = []\n",
        "        self.cols_ = cols\n",
        "        X_encoded = []\n",
        "        for idx_encode, idx_train in self.cv_.split(X):\n",
        "            fitted_encoder = self.encoder_(cols=cols, **self.kwargs_)\n",
        "            fitted_encoder.fit(\n",
        "                X.iloc[idx_encode, :], y.iloc[idx_encode],\n",
        "            )\n",
        "            X_encoded.append(fitted_encoder.transform(X.iloc[idx_train, :])[cols])\n",
        "            self.fitted_encoders_.append(fitted_encoder)\n",
        "        X_encoded = pd.concat(X_encoded)\n",
        "        X_encoded.columns = [name + \"_encoded\" for name in X_encoded.columns]\n",
        "        return X_encoded\n",
        "\n",
        "    def transform(self, X):\n",
        "        from functools import reduce\n",
        "\n",
        "        X_encoded_list = []\n",
        "        for fitted_encoder in self.fitted_encoders_:\n",
        "            X_encoded = fitted_encoder.transform(X)\n",
        "            X_encoded_list.append(X_encoded[self.cols_])\n",
        "        X_encoded = reduce(\n",
        "            lambda x, y: x.add(y, fill_value=0), X_encoded_list\n",
        "             ) / len(X_encoded_list)\n",
        "        X_encoded.columns = [name + \"_encoded\" for name in X_encoded.columns]\n",
        "        return X_encoded"
      ],
      "metadata": {
        "id": "kkFTAWJve5oU"
      },
      "execution_count": null,
      "outputs": []
    },
    {
      "cell_type": "code",
      "source": [
        "def create_features(df, df_test=None):\n",
        "    X = df.copy()\n",
        "    y = X.pop(\"SalePrice\")\n",
        "    mi_scores = make_mi_scores(X, y)\n",
        "\n",
        "    if df_test is not None:\n",
        "        X_test = df_test.copy()\n",
        "        X_test.pop(\"SalePrice\")\n",
        "        X = pd.concat([X, X_test])\n",
        "\n",
        "    X = drop_uninformative(X, mi_scores)\n",
        "    X = X.join(mathematical_transforms(X))\n",
        "    X = X.join(interactions(X))\n",
        "    X = X.join(counts(X))\n",
        "\n",
        "    X = X.join(group_transforms(X))\n",
        "\n",
        "    X = X.join(pca_inspired(X))\n",
        "\n",
        "    X = label_encode(X)\n",
        "    if df_test is not None:\n",
        "        X_test = X.loc[df_test.index, :]\n",
        "        X.drop(df_test.index, inplace=True)\n",
        "\n",
        "\n",
        "    encoder = CrossFoldEncoder(MEstimateEncoder, m=1)\n",
        "    X = X.join(encoder.fit_transform(X, y, cols=[\"MSSubClass\"]))\n",
        "    if df_test is not None:\n",
        "        X_test = X_test.join(encoder.transform(X_test))\n",
        "\n",
        "    if df_test is not None:\n",
        "        return X, X_test\n",
        "    else:\n",
        "        return X\n",
        "\n",
        "\n",
        "df_train, df_test = load_data()\n",
        "X_train = create_features(df_train)\n",
        "y_train = df_train.loc[:, \"SalePrice\"]\n",
        "\n",
        "score_dataset(X_train, y_train)"
      ],
      "metadata": {
        "colab": {
          "base_uri": "https://localhost:8080/"
        },
        "id": "cVG9yObXfCJk",
        "outputId": "2b2c4025-de4e-4eef-9247-490b14c23b07"
      },
      "execution_count": null,
      "outputs": [
        {
          "output_type": "execute_result",
          "data": {
            "text/plain": [
              "nan"
            ]
          },
          "metadata": {},
          "execution_count": 54
        }
      ]
    },
    {
      "cell_type": "code",
      "source": [
        "X_train = create_features(df_train)\n",
        "y_train = df_train.loc[:, \"SalePrice\"]\n",
        "\n",
        "xgb_params = dict(\n",
        "    max_depth=6,\n",
        "    learning_rate=0.01,\n",
        "    n_estimators=1000,\n",
        "    min_child_weight=1,\n",
        "    colsample_bytree=0.7,\n",
        "    subsample=0.7,\n",
        "    reg_alpha=0.5,\n",
        "    reg_lambda=1.0,\n",
        "    num_parallel_tree=1,\n",
        ")\n",
        "\n",
        "xgb = XGBRegressor(**xgb_params)\n",
        "score_dataset(X_train, y_train, xgb)"
      ],
      "metadata": {
        "colab": {
          "base_uri": "https://localhost:8080/"
        },
        "id": "9nf-FqpvfWRR",
        "outputId": "be97c266-fb7d-4399-b976-fa6d724285d6"
      },
      "execution_count": null,
      "outputs": [
        {
          "output_type": "execute_result",
          "data": {
            "text/plain": [
              "nan"
            ]
          },
          "metadata": {},
          "execution_count": 55
        }
      ]
    },
    {
      "cell_type": "code",
      "source": [
        "pip install --upgrade optuna"
      ],
      "metadata": {
        "colab": {
          "base_uri": "https://localhost:8080/"
        },
        "id": "gBnoPHSLkk89",
        "outputId": "52c35ee1-8674-4547-e1e7-a9cfbb151724"
      },
      "execution_count": null,
      "outputs": [
        {
          "output_type": "stream",
          "name": "stdout",
          "text": [
            "Looking in indexes: https://pypi.org/simple, https://us-python.pkg.dev/colab-wheels/public/simple/\n",
            "Requirement already satisfied: optuna in /usr/local/lib/python3.8/dist-packages (3.1.0)\n",
            "Requirement already satisfied: sqlalchemy>=1.3.0 in /usr/local/lib/python3.8/dist-packages (from optuna) (1.4.46)\n",
            "Requirement already satisfied: numpy in /usr/local/lib/python3.8/dist-packages (from optuna) (1.22.4)\n",
            "Requirement already satisfied: packaging>=20.0 in /usr/local/lib/python3.8/dist-packages (from optuna) (23.0)\n",
            "Requirement already satisfied: tqdm in /usr/local/lib/python3.8/dist-packages (from optuna) (4.64.1)\n",
            "Requirement already satisfied: PyYAML in /usr/local/lib/python3.8/dist-packages (from optuna) (6.0)\n",
            "Requirement already satisfied: colorlog in /usr/local/lib/python3.8/dist-packages (from optuna) (6.7.0)\n",
            "Requirement already satisfied: cmaes>=0.9.1 in /usr/local/lib/python3.8/dist-packages (from optuna) (0.9.1)\n",
            "Requirement already satisfied: alembic>=1.5.0 in /usr/local/lib/python3.8/dist-packages (from optuna) (1.9.4)\n",
            "Requirement already satisfied: importlib-resources in /usr/local/lib/python3.8/dist-packages (from alembic>=1.5.0->optuna) (5.12.0)\n",
            "Requirement already satisfied: Mako in /usr/local/lib/python3.8/dist-packages (from alembic>=1.5.0->optuna) (1.2.4)\n",
            "Requirement already satisfied: importlib-metadata in /usr/local/lib/python3.8/dist-packages (from alembic>=1.5.0->optuna) (6.0.0)\n",
            "Requirement already satisfied: greenlet!=0.4.17 in /usr/local/lib/python3.8/dist-packages (from sqlalchemy>=1.3.0->optuna) (2.0.2)\n",
            "Requirement already satisfied: zipp>=0.5 in /usr/local/lib/python3.8/dist-packages (from importlib-metadata->alembic>=1.5.0->optuna) (3.14.0)\n",
            "Requirement already satisfied: MarkupSafe>=0.9.2 in /usr/local/lib/python3.8/dist-packages (from Mako->alembic>=1.5.0->optuna) (2.0.1)\n"
          ]
        }
      ]
    },
    {
      "cell_type": "code",
      "source": [
        "import optuna\n",
        "\n",
        "def objective(trial):\n",
        "    xgb_params = dict(\n",
        "        max_depth=trial.suggest_int(\"max_depth\", 2, 10),\n",
        "        learning_rate=trial.suggest_float(\"learning_rate\", 1e-4, 1e-1, log=True),\n",
        "        n_estimators=trial.suggest_int(\"n_estimators\", 1000, 8000),\n",
        "        min_child_weight=trial.suggest_int(\"min_child_weight\", 1, 10),\n",
        "        colsample_bytree=trial.suggest_float(\"colsample_bytree\", 0.2, 1.0),\n",
        "        subsample=trial.suggest_float(\"subsample\", 0.2, 1.0),\n",
        "        reg_alpha=trial.suggest_float(\"reg_alpha\", 1e-4, 1e2, log=True),\n",
        "        reg_lambda=trial.suggest_float(\"reg_lambda\", 1e-4, 1e2, log=True),\n",
        "    )\n",
        "    xgb = XGBRegressor(**xgb_params)\n",
        "    return score_dataset(X_train, y_train, xgb)\n",
        "\n",
        "study = optuna.create_study(direction=\"minimize\")\n",
        "study.optimize(objective, n_trials=20)\n",
        "xgb_params = study.best_params"
      ],
      "metadata": {
        "colab": {
          "base_uri": "https://localhost:8080/",
          "height": 1000
        },
        "id": "bNWosfvqflPD",
        "outputId": "b9ce3a0f-503c-4d1d-eea4-f4e311e8df9c"
      },
      "execution_count": null,
      "outputs": [
        {
          "output_type": "stream",
          "name": "stderr",
          "text": [
            "\u001b[32m[I 2023-02-26 16:40:56,445]\u001b[0m A new study created in memory with name: no-name-149d245e-76e4-44ea-be45-4dcac2e404e0\u001b[0m\n",
            "\u001b[33m[W 2023-02-26 16:40:56,539]\u001b[0m Trial 0 failed with parameters: {'max_depth': 10, 'learning_rate': 0.03949451327278244, 'n_estimators': 4395, 'min_child_weight': 4, 'colsample_bytree': 0.9072144697815385, 'subsample': 0.22157016004489344, 'reg_alpha': 0.013232334488846366, 'reg_lambda': 0.512360809562926} because of the following error: The value nan is not acceptable..\u001b[0m\n",
            "\u001b[33m[W 2023-02-26 16:40:56,546]\u001b[0m Trial 0 failed with value nan.\u001b[0m\n",
            "\u001b[33m[W 2023-02-26 16:40:56,597]\u001b[0m Trial 1 failed with parameters: {'max_depth': 8, 'learning_rate': 0.021761209309805088, 'n_estimators': 4001, 'min_child_weight': 5, 'colsample_bytree': 0.8434892138178436, 'subsample': 0.9446662001269617, 'reg_alpha': 0.006220651315401329, 'reg_lambda': 0.0003081117177836496} because of the following error: The value nan is not acceptable..\u001b[0m\n",
            "\u001b[33m[W 2023-02-26 16:40:56,607]\u001b[0m Trial 1 failed with value nan.\u001b[0m\n",
            "\u001b[33m[W 2023-02-26 16:40:56,661]\u001b[0m Trial 2 failed with parameters: {'max_depth': 7, 'learning_rate': 0.0023721797820964326, 'n_estimators': 7139, 'min_child_weight': 2, 'colsample_bytree': 0.33362501616210827, 'subsample': 0.9383130286047641, 'reg_alpha': 0.005982341289972496, 'reg_lambda': 0.014116604591448593} because of the following error: The value nan is not acceptable..\u001b[0m\n",
            "\u001b[33m[W 2023-02-26 16:40:56,667]\u001b[0m Trial 2 failed with value nan.\u001b[0m\n",
            "\u001b[33m[W 2023-02-26 16:40:56,726]\u001b[0m Trial 3 failed with parameters: {'max_depth': 2, 'learning_rate': 0.011966492277812747, 'n_estimators': 7974, 'min_child_weight': 2, 'colsample_bytree': 0.5911448479282997, 'subsample': 0.40308554412779485, 'reg_alpha': 52.139474608974425, 'reg_lambda': 0.0009725185072567003} because of the following error: The value nan is not acceptable..\u001b[0m\n",
            "\u001b[33m[W 2023-02-26 16:40:56,738]\u001b[0m Trial 3 failed with value nan.\u001b[0m\n",
            "\u001b[33m[W 2023-02-26 16:40:56,794]\u001b[0m Trial 4 failed with parameters: {'max_depth': 10, 'learning_rate': 0.00038836241983121, 'n_estimators': 6522, 'min_child_weight': 4, 'colsample_bytree': 0.5868058124439022, 'subsample': 0.559176556005309, 'reg_alpha': 0.000688637020316184, 'reg_lambda': 0.00031481102245331315} because of the following error: The value nan is not acceptable..\u001b[0m\n",
            "\u001b[33m[W 2023-02-26 16:40:56,802]\u001b[0m Trial 4 failed with value nan.\u001b[0m\n",
            "\u001b[33m[W 2023-02-26 16:40:56,863]\u001b[0m Trial 5 failed with parameters: {'max_depth': 4, 'learning_rate': 0.003314414152838256, 'n_estimators': 7215, 'min_child_weight': 5, 'colsample_bytree': 0.22299165988718503, 'subsample': 0.9068899906024235, 'reg_alpha': 0.11409712352898352, 'reg_lambda': 0.01468450333096193} because of the following error: The value nan is not acceptable..\u001b[0m\n",
            "\u001b[33m[W 2023-02-26 16:40:56,869]\u001b[0m Trial 5 failed with value nan.\u001b[0m\n",
            "\u001b[33m[W 2023-02-26 16:40:56,930]\u001b[0m Trial 6 failed with parameters: {'max_depth': 7, 'learning_rate': 0.09972242593897675, 'n_estimators': 6185, 'min_child_weight': 9, 'colsample_bytree': 0.7866031485114306, 'subsample': 0.997027585275136, 'reg_alpha': 0.04145632908488172, 'reg_lambda': 54.15913016610609} because of the following error: The value nan is not acceptable..\u001b[0m\n",
            "\u001b[33m[W 2023-02-26 16:40:56,933]\u001b[0m Trial 6 failed with value nan.\u001b[0m\n",
            "\u001b[33m[W 2023-02-26 16:40:56,971]\u001b[0m Trial 7 failed with parameters: {'max_depth': 4, 'learning_rate': 0.00015807914456192034, 'n_estimators': 7192, 'min_child_weight': 4, 'colsample_bytree': 0.8157783215543575, 'subsample': 0.4597229134209022, 'reg_alpha': 3.0296877907966113, 'reg_lambda': 0.007221783979731381} because of the following error: The value nan is not acceptable..\u001b[0m\n",
            "\u001b[33m[W 2023-02-26 16:40:56,995]\u001b[0m Trial 7 failed with value nan.\u001b[0m\n",
            "\u001b[33m[W 2023-02-26 16:40:57,033]\u001b[0m Trial 8 failed with parameters: {'max_depth': 7, 'learning_rate': 0.0006224652952100598, 'n_estimators': 4049, 'min_child_weight': 8, 'colsample_bytree': 0.7365939744689121, 'subsample': 0.8588723608763169, 'reg_alpha': 0.06803262040768014, 'reg_lambda': 0.011342742298780956} because of the following error: The value nan is not acceptable..\u001b[0m\n",
            "\u001b[33m[W 2023-02-26 16:40:57,040]\u001b[0m Trial 8 failed with value nan.\u001b[0m\n",
            "\u001b[33m[W 2023-02-26 16:40:57,114]\u001b[0m Trial 9 failed with parameters: {'max_depth': 10, 'learning_rate': 0.0005426835602055381, 'n_estimators': 2434, 'min_child_weight': 4, 'colsample_bytree': 0.6688295726932664, 'subsample': 0.8873073901377544, 'reg_alpha': 0.001171355321729278, 'reg_lambda': 0.004152964431893966} because of the following error: The value nan is not acceptable..\u001b[0m\n",
            "\u001b[33m[W 2023-02-26 16:40:57,121]\u001b[0m Trial 9 failed with value nan.\u001b[0m\n",
            "\u001b[33m[W 2023-02-26 16:40:57,161]\u001b[0m Trial 10 failed with parameters: {'max_depth': 6, 'learning_rate': 0.08718085223624258, 'n_estimators': 1360, 'min_child_weight': 5, 'colsample_bytree': 0.46566766167851914, 'subsample': 0.2696497563227765, 'reg_alpha': 0.9915299300566675, 'reg_lambda': 0.0014381156677529604} because of the following error: The value nan is not acceptable..\u001b[0m\n",
            "\u001b[33m[W 2023-02-26 16:40:57,164]\u001b[0m Trial 10 failed with value nan.\u001b[0m\n",
            "\u001b[33m[W 2023-02-26 16:40:57,218]\u001b[0m Trial 11 failed with parameters: {'max_depth': 6, 'learning_rate': 0.000708790741154991, 'n_estimators': 7736, 'min_child_weight': 9, 'colsample_bytree': 0.7264721995952719, 'subsample': 0.6740911160862298, 'reg_alpha': 0.0005705294714803672, 'reg_lambda': 0.005671950996733619} because of the following error: The value nan is not acceptable..\u001b[0m\n",
            "\u001b[33m[W 2023-02-26 16:40:57,221]\u001b[0m Trial 11 failed with value nan.\u001b[0m\n",
            "\u001b[33m[W 2023-02-26 16:40:57,256]\u001b[0m Trial 12 failed with parameters: {'max_depth': 7, 'learning_rate': 0.0016976285489638363, 'n_estimators': 5012, 'min_child_weight': 9, 'colsample_bytree': 0.21678534050110612, 'subsample': 0.22737880048174575, 'reg_alpha': 27.34021897228162, 'reg_lambda': 0.00024378175291647788} because of the following error: The value nan is not acceptable..\u001b[0m\n",
            "\u001b[33m[W 2023-02-26 16:40:57,264]\u001b[0m Trial 12 failed with value nan.\u001b[0m\n",
            "\u001b[33m[W 2023-02-26 16:40:57,295]\u001b[0m Trial 13 failed with parameters: {'max_depth': 7, 'learning_rate': 0.0009893020502067832, 'n_estimators': 4033, 'min_child_weight': 3, 'colsample_bytree': 0.8922210204607319, 'subsample': 0.36131216262447313, 'reg_alpha': 6.033847262584117, 'reg_lambda': 2.014007195369193} because of the following error: The value nan is not acceptable..\u001b[0m\n",
            "\u001b[33m[W 2023-02-26 16:40:57,303]\u001b[0m Trial 13 failed with value nan.\u001b[0m\n",
            "\u001b[33m[W 2023-02-26 16:40:57,359]\u001b[0m Trial 14 failed with parameters: {'max_depth': 8, 'learning_rate': 0.002112714701853474, 'n_estimators': 3972, 'min_child_weight': 9, 'colsample_bytree': 0.4506499103263073, 'subsample': 0.8382901430595882, 'reg_alpha': 0.0010899711992978839, 'reg_lambda': 9.684761899412326} because of the following error: The value nan is not acceptable..\u001b[0m\n",
            "\u001b[33m[W 2023-02-26 16:40:57,366]\u001b[0m Trial 14 failed with value nan.\u001b[0m\n",
            "\u001b[33m[W 2023-02-26 16:40:57,404]\u001b[0m Trial 15 failed with parameters: {'max_depth': 9, 'learning_rate': 0.055692584483901186, 'n_estimators': 6477, 'min_child_weight': 5, 'colsample_bytree': 0.20325664891855297, 'subsample': 0.6711886094928508, 'reg_alpha': 0.00031035109493426943, 'reg_lambda': 0.11120716145683711} because of the following error: The value nan is not acceptable..\u001b[0m\n",
            "\u001b[33m[W 2023-02-26 16:40:57,412]\u001b[0m Trial 15 failed with value nan.\u001b[0m\n",
            "\u001b[33m[W 2023-02-26 16:40:57,443]\u001b[0m Trial 16 failed with parameters: {'max_depth': 5, 'learning_rate': 0.001031125224837836, 'n_estimators': 5333, 'min_child_weight': 6, 'colsample_bytree': 0.47834007358651554, 'subsample': 0.27449409857715446, 'reg_alpha': 45.14045416160293, 'reg_lambda': 0.0002056008723854774} because of the following error: The value nan is not acceptable..\u001b[0m\n",
            "\u001b[33m[W 2023-02-26 16:40:57,450]\u001b[0m Trial 16 failed with value nan.\u001b[0m\n",
            "\u001b[33m[W 2023-02-26 16:40:57,508]\u001b[0m Trial 17 failed with parameters: {'max_depth': 6, 'learning_rate': 0.0004809035033899493, 'n_estimators': 1349, 'min_child_weight': 7, 'colsample_bytree': 0.35885530131940374, 'subsample': 0.5861870138671433, 'reg_alpha': 0.005552363087181528, 'reg_lambda': 1.0641287868552372} because of the following error: The value nan is not acceptable..\u001b[0m\n",
            "\u001b[33m[W 2023-02-26 16:40:57,516]\u001b[0m Trial 17 failed with value nan.\u001b[0m\n",
            "\u001b[33m[W 2023-02-26 16:40:57,554]\u001b[0m Trial 18 failed with parameters: {'max_depth': 8, 'learning_rate': 0.00012507064100909007, 'n_estimators': 6092, 'min_child_weight': 9, 'colsample_bytree': 0.35184279139197594, 'subsample': 0.5102143903885679, 'reg_alpha': 0.1643067117054418, 'reg_lambda': 3.2774735442340703} because of the following error: The value nan is not acceptable..\u001b[0m\n",
            "\u001b[33m[W 2023-02-26 16:40:57,563]\u001b[0m Trial 18 failed with value nan.\u001b[0m\n",
            "\u001b[33m[W 2023-02-26 16:40:57,602]\u001b[0m Trial 19 failed with parameters: {'max_depth': 4, 'learning_rate': 0.003448284341834825, 'n_estimators': 4522, 'min_child_weight': 6, 'colsample_bytree': 0.2980967347609183, 'subsample': 0.5533860911499864, 'reg_alpha': 0.014734291444402423, 'reg_lambda': 4.831257298314331} because of the following error: The value nan is not acceptable..\u001b[0m\n",
            "\u001b[33m[W 2023-02-26 16:40:57,609]\u001b[0m Trial 19 failed with value nan.\u001b[0m\n"
          ]
        },
        {
          "output_type": "error",
          "ename": "ValueError",
          "evalue": "ignored",
          "traceback": [
            "\u001b[0;31m---------------------------------------------------------------------------\u001b[0m",
            "\u001b[0;31mValueError\u001b[0m                                Traceback (most recent call last)",
            "\u001b[0;32m<ipython-input-69-5999cbb1eaea>\u001b[0m in \u001b[0;36m<module>\u001b[0;34m\u001b[0m\n\u001b[1;32m     17\u001b[0m \u001b[0mstudy\u001b[0m \u001b[0;34m=\u001b[0m \u001b[0moptuna\u001b[0m\u001b[0;34m.\u001b[0m\u001b[0mcreate_study\u001b[0m\u001b[0;34m(\u001b[0m\u001b[0mdirection\u001b[0m\u001b[0;34m=\u001b[0m\u001b[0;34m\"minimize\"\u001b[0m\u001b[0;34m)\u001b[0m\u001b[0;34m\u001b[0m\u001b[0;34m\u001b[0m\u001b[0m\n\u001b[1;32m     18\u001b[0m \u001b[0mstudy\u001b[0m\u001b[0;34m.\u001b[0m\u001b[0moptimize\u001b[0m\u001b[0;34m(\u001b[0m\u001b[0mobjective\u001b[0m\u001b[0;34m,\u001b[0m \u001b[0mn_trials\u001b[0m\u001b[0;34m=\u001b[0m\u001b[0;36m20\u001b[0m\u001b[0;34m)\u001b[0m\u001b[0;34m\u001b[0m\u001b[0;34m\u001b[0m\u001b[0m\n\u001b[0;32m---> 19\u001b[0;31m \u001b[0mxgb_params\u001b[0m \u001b[0;34m=\u001b[0m \u001b[0mstudy\u001b[0m\u001b[0;34m.\u001b[0m\u001b[0mbest_params\u001b[0m\u001b[0;34m\u001b[0m\u001b[0;34m\u001b[0m\u001b[0m\n\u001b[0m",
            "\u001b[0;32m/usr/local/lib/python3.8/dist-packages/optuna/study/study.py\u001b[0m in \u001b[0;36mbest_params\u001b[0;34m(self)\u001b[0m\n\u001b[1;32m    114\u001b[0m         \"\"\"\n\u001b[1;32m    115\u001b[0m \u001b[0;34m\u001b[0m\u001b[0m\n\u001b[0;32m--> 116\u001b[0;31m         \u001b[0;32mreturn\u001b[0m \u001b[0mself\u001b[0m\u001b[0;34m.\u001b[0m\u001b[0mbest_trial\u001b[0m\u001b[0;34m.\u001b[0m\u001b[0mparams\u001b[0m\u001b[0;34m\u001b[0m\u001b[0;34m\u001b[0m\u001b[0m\n\u001b[0m\u001b[1;32m    117\u001b[0m \u001b[0;34m\u001b[0m\u001b[0m\n\u001b[1;32m    118\u001b[0m     \u001b[0;34m@\u001b[0m\u001b[0mproperty\u001b[0m\u001b[0;34m\u001b[0m\u001b[0;34m\u001b[0m\u001b[0m\n",
            "\u001b[0;32m/usr/local/lib/python3.8/dist-packages/optuna/study/study.py\u001b[0m in \u001b[0;36mbest_trial\u001b[0;34m(self)\u001b[0m\n\u001b[1;32m    157\u001b[0m             )\n\u001b[1;32m    158\u001b[0m \u001b[0;34m\u001b[0m\u001b[0m\n\u001b[0;32m--> 159\u001b[0;31m         \u001b[0;32mreturn\u001b[0m \u001b[0mcopy\u001b[0m\u001b[0;34m.\u001b[0m\u001b[0mdeepcopy\u001b[0m\u001b[0;34m(\u001b[0m\u001b[0mself\u001b[0m\u001b[0;34m.\u001b[0m\u001b[0m_storage\u001b[0m\u001b[0;34m.\u001b[0m\u001b[0mget_best_trial\u001b[0m\u001b[0;34m(\u001b[0m\u001b[0mself\u001b[0m\u001b[0;34m.\u001b[0m\u001b[0m_study_id\u001b[0m\u001b[0;34m)\u001b[0m\u001b[0;34m)\u001b[0m\u001b[0;34m\u001b[0m\u001b[0;34m\u001b[0m\u001b[0m\n\u001b[0m\u001b[1;32m    160\u001b[0m \u001b[0;34m\u001b[0m\u001b[0m\n\u001b[1;32m    161\u001b[0m     \u001b[0;34m@\u001b[0m\u001b[0mproperty\u001b[0m\u001b[0;34m\u001b[0m\u001b[0;34m\u001b[0m\u001b[0m\n",
            "\u001b[0;32m/usr/local/lib/python3.8/dist-packages/optuna/storages/_in_memory.py\u001b[0m in \u001b[0;36mget_best_trial\u001b[0;34m(self, study_id)\u001b[0m\n\u001b[1;32m    248\u001b[0m \u001b[0;34m\u001b[0m\u001b[0m\n\u001b[1;32m    249\u001b[0m             \u001b[0;32mif\u001b[0m \u001b[0mbest_trial_id\u001b[0m \u001b[0;32mis\u001b[0m \u001b[0;32mNone\u001b[0m\u001b[0;34m:\u001b[0m\u001b[0;34m\u001b[0m\u001b[0;34m\u001b[0m\u001b[0m\n\u001b[0;32m--> 250\u001b[0;31m                 \u001b[0;32mraise\u001b[0m \u001b[0mValueError\u001b[0m\u001b[0;34m(\u001b[0m\u001b[0;34m\"No trials are completed yet.\"\u001b[0m\u001b[0;34m)\u001b[0m\u001b[0;34m\u001b[0m\u001b[0;34m\u001b[0m\u001b[0m\n\u001b[0m\u001b[1;32m    251\u001b[0m             \u001b[0;32melif\u001b[0m \u001b[0mlen\u001b[0m\u001b[0;34m(\u001b[0m\u001b[0mself\u001b[0m\u001b[0;34m.\u001b[0m\u001b[0m_studies\u001b[0m\u001b[0;34m[\u001b[0m\u001b[0mstudy_id\u001b[0m\u001b[0;34m]\u001b[0m\u001b[0;34m.\u001b[0m\u001b[0mdirections\u001b[0m\u001b[0;34m)\u001b[0m \u001b[0;34m>\u001b[0m \u001b[0;36m1\u001b[0m\u001b[0;34m:\u001b[0m\u001b[0;34m\u001b[0m\u001b[0;34m\u001b[0m\u001b[0m\n\u001b[1;32m    252\u001b[0m                 raise RuntimeError(\n",
            "\u001b[0;31mValueError\u001b[0m: No trials are completed yet."
          ]
        }
      ]
    },
    {
      "cell_type": "code",
      "source": [
        "X_train, X_test = create_features(df_train, df_test)\n",
        "y_train = df_train.loc[:, \"SalePrice\"]\n",
        "\n",
        "print(\"Your submission was successfully saved!\")"
      ],
      "metadata": {
        "colab": {
          "base_uri": "https://localhost:8080/"
        },
        "id": "rE6RW1lUkAtb",
        "outputId": "dd4c7ae4-d980-4e78-f3e5-47e48e20812d"
      },
      "execution_count": null,
      "outputs": [
        {
          "output_type": "stream",
          "name": "stdout",
          "text": [
            "Your submission was successfully saved!\n"
          ]
        }
      ]
    }
  ]
}